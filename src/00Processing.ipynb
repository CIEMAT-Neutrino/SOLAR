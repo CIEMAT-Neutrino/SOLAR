{
 "cells": [
  {
   "cell_type": "code",
   "execution_count": null,
   "metadata": {},
   "outputs": [],
   "source": [
    "import sys, json\n",
    "sys.path.insert(0, '../')\n",
    "from lib import initialize_macro, check_macro_config, get_root_info, root2npy, remove_processed_branches"
   ]
  },
  {
   "cell_type": "code",
   "execution_count": null,
   "metadata": {},
   "outputs": [],
   "source": [
    "configs = {\"hd_legacy\": \"hd_legacy_config\"}\n",
    "# Process data: root -> numpy #\n",
    "for config in configs:\n",
    "    info = json.load(open('../config/'+f"{config}/{config}_config"+'.json', 'r'))\n",
    "    for name in [\"Marley\"]:\n",
    "        root_info = get_root_info(info[\"NAME\"]+name,info[\"PATH\"],debug=True)\n",
    "        root_info = remove_processed_branches(root_info,debug=True)\n",
    "        root2npy(root_info,trim=False,debug=True)"
   ]
  }
 ],
 "metadata": {
  "kernelspec": {
   "display_name": "Python 3",
   "language": "python",
   "name": "python3"
  },
  "language_info": {
   "codemirror_mode": {
    "name": "ipython",
    "version": 3
   },
   "file_extension": ".py",
   "mimetype": "text/x-python",
   "name": "python",
   "nbconvert_exporter": "python",
   "pygments_lexer": "ipython3",
   "version": "3.9.18"
  }
 },
 "nbformat": 4,
 "nbformat_minor": 2
}
